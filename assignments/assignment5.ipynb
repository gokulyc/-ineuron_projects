{
 "cells": [
  {
   "cell_type": "markdown",
   "metadata": {
    "nteract": {
     "transient": {
      "deleting": false
     }
    }
   },
   "source": [
    "1. Write a function to compute 5/0 and use try/except to catch the exceptions."
   ]
  },
  {
   "cell_type": "code",
   "execution_count": 1,
   "metadata": {
    "ExecuteTime": {
     "end_time": "2020-12-03T15:20:46.790521Z",
     "start_time": "2020-12-03T15:20:46.774135Z"
    },
    "execution": {
     "iopub.execute_input": "2020-12-03T14:57:29.189Z",
     "iopub.status.busy": "2020-12-03T14:57:29.185Z",
     "iopub.status.idle": "2020-12-03T14:57:29.203Z",
     "shell.execute_reply": "2020-12-03T14:57:29.206Z"
    },
    "jupyter": {
     "outputs_hidden": false,
     "source_hidden": false
    },
    "nteract": {
     "transient": {
      "deleting": false
     }
    }
   },
   "outputs": [
    {
     "name": "stdout",
     "output_type": "stream",
     "text": [
      "Error :  division by zero\n"
     ]
    }
   ],
   "source": [
    "# a=5/0\n",
    "try:\n",
    "    a=5/0\n",
    "except ZeroDivisionError as e:\n",
    "    print('Error : ',e)"
   ]
  },
  {
   "cell_type": "markdown",
   "metadata": {
    "nteract": {
     "transient": {
      "deleting": false
     }
    }
   },
   "source": [
    "2. Implement a Python program to generate all sentences where subject is in  \n",
    "[\"Americans\", \"Indians\"] and verb is in [\"Play\", \"watch\"] and the object is in  \n",
    "[\"Baseball\",\"cricket\"].     \n",
    "Hint: Subject,Verb and Object should be declared in the program as shown below.  \n",
    "subjects=[\"Americans \",\"Indians\"]  \n",
    "verbs=[\"play\",\"watch\"]  \n",
    "objects=[\"Baseball\",\"Cricket\"]    \n",
    "Output should come as below:     \n",
    "Americans play Baseball.  \n",
    "Americans play Cricket.  \n",
    "Americans watch Baseball.  \n",
    "Americans watch Cricket.  \n",
    "Indians play Baseball.  \n",
    "Indians play Cricket.  \n",
    "Indians watch Baseball.  \n",
    "Indians watch Cricket.  "
   ]
  },
  {
   "cell_type": "code",
   "execution_count": 2,
   "metadata": {
    "ExecuteTime": {
     "end_time": "2020-12-03T15:20:52.009560Z",
     "start_time": "2020-12-03T15:20:51.988045Z"
    },
    "execution": {
     "iopub.execute_input": "2020-12-03T15:00:40.573Z",
     "iopub.status.busy": "2020-12-03T15:00:40.568Z",
     "iopub.status.idle": "2020-12-03T15:00:40.586Z",
     "shell.execute_reply": "2020-12-03T15:00:40.590Z"
    },
    "jupyter": {
     "outputs_hidden": false,
     "source_hidden": false
    },
    "nteract": {
     "transient": {
      "deleting": false
     }
    }
   },
   "outputs": [
    {
     "name": "stdout",
     "output_type": "stream",
     "text": [
      "Americans  play Baseball.\n",
      "Americans  play Cricket.\n",
      "Americans  watch Baseball.\n",
      "Americans  watch Cricket.\n",
      "Indians play Baseball.\n",
      "Indians play Cricket.\n",
      "Indians watch Baseball.\n",
      "Indians watch Cricket.\n"
     ]
    }
   ],
   "source": [
    "subjects=[\"Americans \",\"Indians\"]  \n",
    "verbs=[\"play\",\"watch\"]  \n",
    "objects=[\"Baseball\",\"Cricket\"]\n",
    "\n",
    "for i in subjects:\n",
    "    for j in verbs:\n",
    "        for k in objects:\n",
    "            print(f'{i} {j} {k}.')"
   ]
  },
  {
   "cell_type": "code",
   "execution_count": null,
   "metadata": {
    "collapsed": true,
    "jupyter": {
     "outputs_hidden": false,
     "source_hidden": false
    },
    "nteract": {
     "transient": {
      "deleting": false
     }
    }
   },
   "outputs": [],
   "source": []
  }
 ],
 "metadata": {
  "kernel_info": {
   "name": "python37364bitbasecondac1e1af396773407484830c731e4132c7"
  },
  "kernelspec": {
   "display_name": "Python 3.7.3 64-bit ('base': conda)",
   "language": "python",
   "name": "python37364bitbasecondac1e1af396773407484830c731e4132c7"
  },
  "language_info": {
   "codemirror_mode": {
    "name": "ipython",
    "version": 3
   },
   "file_extension": ".py",
   "mimetype": "text/x-python",
   "name": "python",
   "nbconvert_exporter": "python",
   "pygments_lexer": "ipython3",
   "version": "3.8.6"
  },
  "nteract": {
   "version": "0.27.0"
  }
 },
 "nbformat": 4,
 "nbformat_minor": 1
}
